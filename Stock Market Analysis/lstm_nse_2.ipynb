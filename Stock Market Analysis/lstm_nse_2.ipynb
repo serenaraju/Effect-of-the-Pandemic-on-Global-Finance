{
 "cells": [
  {
   "cell_type": "code",
   "execution_count": 1,
   "metadata": {},
   "outputs": [],
   "source": [
    "import numpy as np\n",
    "import matplotlib.pyplot as plt\n",
    "import pandas as pd"
   ]
  },
  {
   "cell_type": "code",
   "execution_count": 2,
   "metadata": {},
   "outputs": [
    {
     "data": {
      "text/plain": [
       "(2685, 7)"
      ]
     },
     "execution_count": 2,
     "metadata": {},
     "output_type": "execute_result"
    }
   ],
   "source": [
    "training_complete = pd.read_csv(r'^NSEI_2.csv')\n",
    "training_complete = training_complete.iloc[:2717,:]\n",
    "training_complete = training_complete.dropna()\n",
    "\n",
    "training_complete.shape"
   ]
  },
  {
   "cell_type": "code",
   "execution_count": null,
   "metadata": {},
   "outputs": [],
   "source": []
  },
  {
   "cell_type": "code",
   "execution_count": 3,
   "metadata": {},
   "outputs": [
    {
     "data": {
      "text/plain": [
       "(555, 7)"
      ]
     },
     "execution_count": 3,
     "metadata": {},
     "output_type": "execute_result"
    }
   ],
   "source": [
    "testing_complete = pd.read_csv(r'^NSEI_3.csv')\n",
    "testing_complete =testing_complete.dropna()\n",
    "testing_complete.shape"
   ]
  },
  {
   "cell_type": "code",
   "execution_count": 4,
   "metadata": {},
   "outputs": [],
   "source": [
    "plotting_data = training_complete.iloc[:, 3:4]\n",
    "training_processed = training_complete.iloc[:, 3:4].values"
   ]
  },
  {
   "cell_type": "code",
   "execution_count": 5,
   "metadata": {},
   "outputs": [
    {
     "data": {
      "text/plain": [
       "<matplotlib.axes._subplots.AxesSubplot at 0x18887c79bc8>"
      ]
     },
     "execution_count": 5,
     "metadata": {},
     "output_type": "execute_result"
    },
    {
     "data": {
      "image/png": "[encoded data removed]",
      "text/plain": [
       "<Figure size 432x288 with 1 Axes>"
      ]
     },
     "metadata": {
      "needs_background": "light"
     },
     "output_type": "display_data"
    }
   ],
   "source": [
    "plotting_data.plot()"
   ]
  },
  {
   "cell_type": "code",
   "execution_count": 6,
   "metadata": {},
   "outputs": [
    {
     "data": {
      "text/plain": [
       "array([[ 6109.850098],\n",
       "       [ 6060.850098],\n",
       "       [ 6126.399902],\n",
       "       ...,\n",
       "       [10817.150391],\n",
       "       [10853.200195],\n",
       "       [10735.049805]])"
      ]
     },
     "execution_count": 6,
     "metadata": {},
     "output_type": "execute_result"
    }
   ],
   "source": [
    "training_processed"
   ]
  },
  {
   "cell_type": "code",
   "execution_count": 7,
   "metadata": {},
   "outputs": [],
   "source": [
    "from sklearn.preprocessing import MinMaxScaler\n",
    "scaler = MinMaxScaler(feature_range = (0, 1))\n",
    "\n",
    "training_scaled = scaler.fit_transform(training_processed)"
   ]
  },
  {
   "cell_type": "code",
   "execution_count": 8,
   "metadata": {},
   "outputs": [
    {
     "data": {
      "text/plain": [
       "array([[0.40782428],\n",
       "       [0.40264335],\n",
       "       [0.40957415],\n",
       "       ...,\n",
       "       [0.90554311],\n",
       "       [0.90935478],\n",
       "       [0.89686234]])"
      ]
     },
     "execution_count": 8,
     "metadata": {},
     "output_type": "execute_result"
    }
   ],
   "source": [
    "training_scaled"
   ]
  },
  {
   "cell_type": "code",
   "execution_count": 9,
   "metadata": {},
   "outputs": [],
   "source": [
    "features_set = []\n",
    "labels = []\n",
    "for i in range(60, 2684):\n",
    "    features_set.append(training_scaled[i-60:i, 0])\n",
    "    labels.append(training_scaled[i, 0])"
   ]
  },
  {
   "cell_type": "code",
   "execution_count": 10,
   "metadata": {},
   "outputs": [
    {
     "name": "stdout",
     "output_type": "stream",
     "text": [
      "(2624, 60) (2624,)\n"
     ]
    }
   ],
   "source": [
    "features_set, labels = np.array(features_set), np.array(labels)\n",
    "print(features_set.shape, labels.shape)"
   ]
  },
  {
   "cell_type": "code",
   "execution_count": 11,
   "metadata": {},
   "outputs": [],
   "source": [
    "features_set = np.reshape(features_set, (features_set.shape[0], features_set.shape[1], 1))"
   ]
  },
  {
   "cell_type": "code",
   "execution_count": 12,
   "metadata": {},
   "outputs": [],
   "source": [
    "from tensorflow.keras.models import Sequential\n",
    "from tensorflow.keras.layers import Dense\n",
    "from tensorflow.keras.layers import LSTM\n",
    "from tensorflow.keras.layers import Dropout"
   ]
  },
  {
   "cell_type": "code",
   "execution_count": 13,
   "metadata": {},
   "outputs": [],
   "source": [
    "model = Sequential()\n",
    "model.add(LSTM(units=50, return_sequences=True, input_shape=(features_set.shape[1], 1)))\n",
    "model.add(Dropout(0.2))\n",
    "model.add(LSTM(units=50, return_sequences=True))\n",
    "model.add(Dropout(0.2))\n",
    "\n",
    "model.add(LSTM(units=50, return_sequences=True))\n",
    "model.add(Dropout(0.2))\n",
    "\n",
    "model.add(LSTM(units=50))\n",
    "model.add(Dropout(0.2))\n",
    "model.add(Dense(units = 1))\n"
   ]
  },
  {
   "cell_type": "code",
   "execution_count": 28,
   "metadata": {},
   "outputs": [
    {
     "name": "stdout",
     "output_type": "stream",
     "text": [
      "2624/2624 [==============================] - 35s 13ms/step - loss: 0.0022\n"
     ]
    },
    {
     "data": {
      "text/plain": [
       "<tensorflow.python.keras.callbacks.History at 0x1899ed4c508>"
      ]
     },
     "execution_count": 28,
     "metadata": {},
     "output_type": "execute_result"
    }
   ],
   "source": [
    "model.compile(optimizer = 'adam', loss = 'mean_squared_error')\n",
    "model.fit(features_set, labels, epochs = 1, batch_size = 1,verbose =1)"
   ]
  },
  {
   "cell_type": "code",
   "execution_count": 29,
   "metadata": {},
   "outputs": [],
   "source": [
    "testing_processed = testing_complete.iloc[:, 3:4].values"
   ]
  },
  {
   "cell_type": "code",
   "execution_count": 30,
   "metadata": {},
   "outputs": [],
   "source": [
    "revert = testing_processed"
   ]
  },
  {
   "cell_type": "code",
   "execution_count": 31,
   "metadata": {},
   "outputs": [
    {
     "data": {
      "text/plain": [
       "<matplotlib.axes._subplots.AxesSubplot at 0x189bb302208>"
      ]
     },
     "execution_count": 31,
     "metadata": {},
     "output_type": "execute_result"
    },
    {
     "data": {
      "image/png": "[encoded data removed]",
      "text/plain": [
       "<Figure size 432x288 with 1 Axes>"
      ]
     },
     "metadata": {
      "needs_background": "light"
     },
     "output_type": "display_data"
    }
   ],
   "source": [
    "plotting_data = testing_complete.iloc[:, 3:4]\n",
    "plotting_data.plot()"
   ]
  },
  {
   "cell_type": "code",
   "execution_count": 32,
   "metadata": {},
   "outputs": [
    {
     "data": {
      "text/plain": [
       "(3240,)"
      ]
     },
     "execution_count": 32,
     "metadata": {},
     "output_type": "execute_result"
    }
   ],
   "source": [
    "total = pd.concat((training_complete['Close'], testing_complete['Close']), axis=0)\n",
    "total.shape"
   ]
  },
  {
   "cell_type": "code",
   "execution_count": 33,
   "metadata": {},
   "outputs": [
    {
     "data": {
      "text/plain": [
       "(615,)"
      ]
     },
     "execution_count": 33,
     "metadata": {},
     "output_type": "execute_result"
    }
   ],
   "source": [
    "test_inputs = total[len(total) - len(testing_complete) - 60:].values\n",
    "test_inputs.shape"
   ]
  },
  {
   "cell_type": "code",
   "execution_count": 34,
   "metadata": {},
   "outputs": [],
   "source": [
    "test_inputs = test_inputs.reshape(-1,1)\n",
    "test_inputs = scaler.transform(test_inputs)"
   ]
  },
  {
   "cell_type": "code",
   "execution_count": 35,
   "metadata": {},
   "outputs": [],
   "source": [
    "test_features = []\n",
    "for i in range(60, test_inputs.shape[0]):\n",
    "    test_features.append(test_inputs[i-60:i, 0])"
   ]
  },
  {
   "cell_type": "code",
   "execution_count": 36,
   "metadata": {},
   "outputs": [
    {
     "name": "stdout",
     "output_type": "stream",
     "text": [
      "(555, 60, 1)\n"
     ]
    }
   ],
   "source": [
    "test_features = np.array(test_features)\n",
    "test_features = np.reshape(test_features, (test_features.shape[0], test_features.shape[1], 1))\n",
    "print(test_features.shape)"
   ]
  },
  {
   "cell_type": "code",
   "execution_count": 37,
   "metadata": {},
   "outputs": [],
   "source": [
    "predictions = model.predict(test_features)\n",
    "predictions = scaler.inverse_transform(predictions)"
   ]
  },
  {
   "cell_type": "code",
   "execution_count": 38,
   "metadata": {},
   "outputs": [
    {
     "data": {
      "image/png": "[encoded data removed]",
      "text/plain": [
       "<Figure size 720x432 with 1 Axes>"
      ]
     },
     "metadata": {
      "needs_background": "light"
     },
     "output_type": "display_data"
    }
   ],
   "source": [
    "plt.figure(figsize=(10,6))\n",
    "plt.plot(testing_processed, color='blue', label='Actual Stock Price')\n",
    "plt.plot(predictions , color='red', label='Predicted Stock Price')\n",
    "plt.title('Stock Price Prediction')\n",
    "plt.xlabel('Time')\n",
    "plt.ylabel('Stock Price')\n",
    "plt.legend()\n",
    "plt.show()"
   ]
  },
  {
   "cell_type": "code",
   "execution_count": 25,
   "metadata": {},
   "outputs": [
    {
     "name": "stdout",
     "output_type": "stream",
     "text": [
      "[[10353.966 ]\n",
      " [10352.835 ]\n",
      " [10348.999 ]\n",
      " [10342.169 ]\n",
      " [10335.032 ]\n",
      " [10330.595 ]\n",
      " [10331.651 ]\n",
      " [10337.287 ]\n",
      " [10344.638 ]\n",
      " [10349.638 ]\n",
      " [10355.114 ]\n",
      " [10362.897 ]\n",
      " [10373.437 ]\n",
      " [10385.782 ]\n",
      " [10400.092 ]\n",
      " [10414.29  ]\n",
      " [10423.754 ]\n",
      " [10427.144 ]\n",
      " [10423.128 ]\n",
      " [10409.154 ]\n",
      " [10386.24  ]\n",
      " [10358.075 ]\n",
      " [10334.661 ]\n",
      " [10323.555 ]\n",
      " [10326.703 ]\n",
      " [10341.987 ]\n",
      " [10368.695 ]\n",
      " [10403.225 ]\n",
      " [10436.514 ]\n",
      " [10460.795 ]\n",
      " [10471.517 ]\n",
      " [10466.558 ]\n",
      " [10447.926 ]\n",
      " [10418.046 ]\n",
      " [10380.607 ]\n",
      " [10344.776 ]\n",
      " [10318.554 ]\n",
      " [10304.984 ]\n",
      " [10305.753 ]\n",
      " [10317.064 ]\n",
      " [10332.941 ]\n",
      " [10348.166 ]\n",
      " [10361.9795]\n",
      " [10377.982 ]\n",
      " [10399.187 ]\n",
      " [10425.057 ]\n",
      " [10452.071 ]\n",
      " [10480.83  ]\n",
      " [10514.441 ]\n",
      " [10553.376 ]\n",
      " [10594.799 ]\n",
      " [10637.205 ]\n",
      " [10679.022 ]\n",
      " [10719.959 ]\n",
      " [10758.133 ]\n",
      " [10789.619 ]\n",
      " [10809.478 ]\n",
      " [10820.749 ]\n",
      " [10825.988 ]\n",
      " [10831.291 ]\n",
      " [10842.719 ]\n",
      " [10862.831 ]\n",
      " [10887.881 ]\n",
      " [10912.122 ]\n",
      " [10933.826 ]\n",
      " [10950.5205]\n",
      " [10963.392 ]\n",
      " [10971.172 ]\n",
      " [10974.222 ]\n",
      " [10975.138 ]\n",
      " [10977.23  ]\n",
      " [10984.694 ]\n",
      " [10997.241 ]\n",
      " [11008.202 ]\n",
      " [11013.146 ]\n",
      " [11015.544 ]\n",
      " [11015.938 ]\n",
      " [11018.029 ]\n",
      " [11023.259 ]\n",
      " [11030.586 ]\n",
      " [11038.162 ]\n",
      " [11041.411 ]\n",
      " [11035.819 ]\n",
      " [11017.355 ]\n",
      " [10985.924 ]\n",
      " [10945.207 ]\n",
      " [10897.235 ]\n",
      " [10848.505 ]\n",
      " [10802.936 ]\n",
      " [10766.439 ]\n",
      " [10746.183 ]\n",
      " [10755.715 ]\n",
      " [10791.726 ]\n",
      " [10844.406 ]\n",
      " [10899.98  ]\n",
      " [10953.849 ]\n",
      " [11004.933 ]\n",
      " [11051.504 ]\n",
      " [11089.617 ]\n",
      " [11119.655 ]\n",
      " [11141.923 ]\n",
      " [11161.9375]\n",
      " [11180.593 ]\n",
      " [11192.505 ]\n",
      " [11196.234 ]\n",
      " [11194.581 ]\n",
      " [11191.881 ]\n",
      " [11189.217 ]\n",
      " [11187.254 ]\n",
      " [11183.782 ]\n",
      " [11173.831 ]\n",
      " [11157.15  ]\n",
      " [11136.269 ]\n",
      " [11118.51  ]\n",
      " [11105.012 ]\n",
      " [11094.756 ]\n",
      " [11089.499 ]\n",
      " [11090.978 ]\n",
      " [11098.379 ]\n",
      " [11107.97  ]\n",
      " [11118.925 ]\n",
      " [11131.57  ]\n",
      " [11145.429 ]\n",
      " [11160.139 ]\n",
      " [11170.876 ]\n",
      " [11168.194 ]\n",
      " [11149.893 ]\n",
      " [11117.949 ]\n",
      " [11080.308 ]\n",
      " [11043.341 ]\n",
      " [11012.478 ]\n",
      " [10992.412 ]\n",
      " [10984.651 ]\n",
      " [10984.728 ]\n",
      " [10983.127 ]\n",
      " [10973.062 ]\n",
      " [10953.224 ]\n",
      " [10924.627 ]\n",
      " [10890.407 ]\n",
      " [10855.762 ]\n",
      " [10822.115 ]\n",
      " [10787.863 ]\n",
      " [10754.343 ]\n",
      " [10719.593 ]\n",
      " [10684.514 ]\n",
      " [10647.243 ]\n",
      " [10611.123 ]\n",
      " [10576.684 ]\n",
      " [10550.302 ]\n",
      " [10537.325 ]\n",
      " [10532.285 ]\n",
      " [10532.973 ]\n",
      " [10537.767 ]\n",
      " [10544.961 ]\n",
      " [10551.648 ]\n",
      " [10553.003 ]\n",
      " [10542.041 ]\n",
      " [10520.728 ]\n",
      " [10500.846 ]\n",
      " [10491.125 ]\n",
      " [10491.923 ]\n",
      " [10497.203 ]\n",
      " [10504.447 ]\n",
      " [10505.16  ]\n",
      " [10497.442 ]\n",
      " [10483.17  ]\n",
      " [10468.654 ]\n",
      " [10459.83  ]\n",
      " [10459.711 ]\n",
      " [10465.96  ]\n",
      " [10478.118 ]\n",
      " [10492.125 ]\n",
      " [10499.014 ]\n",
      " [10495.848 ]\n",
      " [10479.856 ]\n",
      " [10470.558 ]\n",
      " [10488.701 ]\n",
      " [10537.367 ]\n",
      " [10602.8125]\n",
      " [10674.161 ]\n",
      " [10740.351 ]\n",
      " [10793.364 ]\n",
      " [10826.898 ]\n",
      " [10839.48  ]\n",
      " [10830.659 ]\n",
      " [10803.756 ]\n",
      " [10771.202 ]\n",
      " [10740.329 ]\n",
      " [10717.45  ]\n",
      " [10706.011 ]\n",
      " [10708.216 ]\n",
      " [10723.202 ]\n",
      " [10750.612 ]\n",
      " [10788.756 ]\n",
      " [10830.605 ]\n",
      " [10870.168 ]\n",
      " [10902.831 ]\n",
      " [10926.634 ]\n",
      " [10947.623 ]\n",
      " [10970.796 ]\n",
      " [10997.969 ]\n",
      " [11028.028 ]\n",
      " [11059.715 ]\n",
      " [11090.064 ]\n",
      " [11117.964 ]\n",
      " [11143.764 ]\n",
      " [11164.303 ]\n",
      " [11178.248 ]\n",
      " [11183.97  ]\n",
      " [11183.166 ]\n",
      " [11179.134 ]\n",
      " [11174.298 ]\n",
      " [11171.778 ]\n",
      " [11174.514 ]\n",
      " [11181.906 ]\n",
      " [11190.603 ]\n",
      " [11202.59  ]\n",
      " [11217.165 ]\n",
      " [11234.401 ]\n",
      " [11254.501 ]\n",
      " [11273.508 ]\n",
      " [11288.371 ]\n",
      " [11296.481 ]\n",
      " [11299.095 ]\n",
      " [11297.573 ]\n",
      " [11290.901 ]\n",
      " [11280.1875]\n",
      " [11265.255 ]\n",
      " [11248.941 ]\n",
      " [11235.629 ]\n",
      " [11230.764 ]\n",
      " [11234.61  ]\n",
      " [11247.87  ]\n",
      " [11269.869 ]\n",
      " [11298.394 ]\n",
      " [11329.93  ]\n",
      " [11360.428 ]\n",
      " [11385.513 ]\n",
      " [11400.78  ]\n",
      " [11408.765 ]\n",
      " [11412.807 ]\n",
      " [11412.938 ]\n",
      " [11410.077 ]\n",
      " [11408.203 ]\n",
      " [11407.962 ]\n",
      " [11402.79  ]\n",
      " [11391.756 ]\n",
      " [11375.92  ]\n",
      " [11362.948 ]\n",
      " [11358.294 ]\n",
      " [11364.836 ]\n",
      " [11381.897 ]\n",
      " [11405.3125]\n",
      " [11430.727 ]\n",
      " [11454.452 ]\n",
      " [11470.755 ]\n",
      " [11476.14  ]\n",
      " [11469.505 ]\n",
      " [11455.301 ]\n",
      " [11440.218 ]\n",
      " [11425.08  ]\n",
      " [11408.678 ]\n",
      " [11393.164 ]\n",
      " [11377.863 ]\n",
      " [11360.845 ]\n",
      " [11335.206 ]\n",
      " [11307.412 ]\n",
      " [11286.511 ]\n",
      " [11277.999 ]\n",
      " [11280.766 ]\n",
      " [11289.19  ]\n",
      " [11300.607 ]\n",
      " [11315.395 ]\n",
      " [11331.92  ]\n",
      " [11346.42  ]\n",
      " [11354.788 ]\n",
      " [11354.445 ]\n",
      " [11349.728 ]\n",
      " [11343.242 ]\n",
      " [11329.884 ]\n",
      " [11307.528 ]\n",
      " [11274.901 ]\n",
      " [11233.735 ]\n",
      " [11176.641 ]\n",
      " [11102.701 ]\n",
      " [11023.306 ]\n",
      " [10948.316 ]\n",
      " [10885.261 ]\n",
      " [10829.525 ]\n",
      " [10762.507 ]\n",
      " [10678.65  ]\n",
      " [10557.17  ]\n",
      " [10409.125 ]\n",
      " [10230.942 ]\n",
      " [10024.685 ]\n",
      " [ 9789.118 ]\n",
      " [ 9531.031 ]\n",
      " [ 9285.3545]\n",
      " [ 9042.56  ]\n",
      " [ 8807.697 ]\n",
      " [ 8611.1   ]\n",
      " [ 8484.075 ]\n",
      " [ 8434.369 ]\n",
      " [ 8434.278 ]\n",
      " [ 8465.88  ]\n",
      " [ 8500.15  ]\n",
      " [ 8512.535 ]\n",
      " [ 8519.945 ]\n",
      " [ 8533.871 ]\n",
      " [ 8569.633 ]\n",
      " [ 8623.734 ]\n",
      " [ 8682.687 ]\n",
      " [ 8736.844 ]\n",
      " [ 8789.88  ]\n",
      " [ 8842.497 ]\n",
      " [ 8882.261 ]\n",
      " [ 8909.593 ]\n",
      " [ 8931.884 ]\n",
      " [ 8948.052 ]\n",
      " [ 8961.733 ]\n",
      " [ 8978.72  ]\n",
      " [ 9006.941 ]\n",
      " [ 9057.906 ]\n",
      " [ 9110.837 ]\n",
      " [ 9146.483 ]\n",
      " [ 9160.063 ]\n",
      " [ 9152.595 ]\n",
      " [ 9131.9375]\n",
      " [ 9106.072 ]\n",
      " [ 9079.829 ]\n",
      " [ 9063.139 ]\n",
      " [ 9051.983 ]\n",
      " [ 9042.107 ]\n",
      " [ 9020.686 ]\n",
      " [ 8985.804 ]\n",
      " [ 8948.682 ]\n",
      " [ 8920.047 ]\n",
      " [ 8902.365 ]\n",
      " [ 8894.003 ]\n",
      " [ 8902.186 ]\n",
      " [ 8933.866 ]\n",
      " [ 8989.19  ]\n",
      " [ 9068.441 ]\n",
      " [ 9168.205 ]\n",
      " [ 9280.157 ]\n",
      " [ 9390.789 ]\n",
      " [ 9492.123 ]\n",
      " [ 9579.129 ]\n",
      " [ 9644.813 ]\n",
      " [ 9689.508 ]\n",
      " [ 9709.464 ]\n",
      " [ 9709.161 ]\n",
      " [ 9690.67  ]\n",
      " [ 9662.866 ]\n",
      " [ 9633.107 ]\n",
      " [ 9613.935 ]\n",
      " [ 9616.145 ]\n",
      " [ 9642.7705]\n",
      " [ 9693.637 ]\n",
      " [ 9755.5   ]\n",
      " [ 9815.192 ]\n",
      " [ 9867.441 ]\n",
      " [ 9907.635 ]\n",
      " [ 9934.184 ]\n",
      " [ 9952.494 ]\n",
      " [ 9970.809 ]\n",
      " [ 9994.468 ]\n",
      " [10028.666 ]\n",
      " [10073.317 ]\n",
      " [10120.715 ]\n",
      " [10167.237 ]\n",
      " [10208.362 ]\n",
      " [10242.441 ]\n",
      " [10262.952 ]\n",
      " [10268.695 ]\n",
      " [10266.364 ]\n",
      " [10267.048 ]\n",
      " [10279.871 ]\n",
      " [10310.412 ]\n",
      " [10354.999 ]\n",
      " [10408.63  ]\n",
      " [10463.904 ]\n",
      " [10512.533 ]\n",
      " [10555.027 ]\n",
      " [10589.08  ]\n",
      " [10610.723 ]\n",
      " [10618.754 ]\n",
      " [10609.971 ]\n",
      " [10592.759 ]\n",
      " [10575.145 ]\n",
      " [10565.035 ]\n",
      " [10565.635 ]\n",
      " [10577.545 ]\n",
      " [10599.549 ]\n",
      " [10627.442 ]\n",
      " [10656.307 ]\n",
      " [10678.669 ]\n",
      " [10693.221 ]\n",
      " [10705.103 ]\n",
      " [10718.217 ]\n",
      " [10730.659 ]\n",
      " [10742.301 ]\n",
      " [10755.7295]\n",
      " [10771.729 ]\n",
      " [10791.605 ]\n",
      " [10814.665 ]\n",
      " [10841.3545]\n",
      " [10862.495 ]\n",
      " [10875.538 ]\n",
      " [10882.939 ]\n",
      " [10887.137 ]\n",
      " [10884.247 ]\n",
      " [10874.044 ]\n",
      " [10857.659 ]\n",
      " [10836.714 ]\n",
      " [10818.99  ]\n",
      " [10809.476 ]\n",
      " [10808.35  ]\n",
      " [10815.912 ]\n",
      " [10832.583 ]\n",
      " [10853.345 ]\n",
      " [10873.194 ]\n",
      " [10881.641 ]\n",
      " [10872.33  ]\n",
      " [10845.968 ]\n",
      " [10798.647 ]\n",
      " [10741.44  ]\n",
      " [10690.979 ]\n",
      " [10656.707 ]\n",
      " [10641.323 ]\n",
      " [10647.129 ]\n",
      " [10672.955 ]\n",
      " [10717.176 ]\n",
      " [10775.216 ]\n",
      " [10841.794 ]\n",
      " [10911.765 ]\n",
      " [10979.297 ]\n",
      " [11039.19  ]\n",
      " [11089.078 ]\n",
      " [11119.872 ]\n",
      " [11131.686 ]\n",
      " [11132.017 ]\n",
      " [11128.396 ]\n",
      " [11126.738 ]\n",
      " [11128.347 ]\n",
      " [11133.745 ]\n",
      " [11137.657 ]\n",
      " [11140.755 ]\n",
      " [11139.619 ]\n",
      " [11131.701 ]\n",
      " [11116.89  ]\n",
      " [11098.298 ]\n",
      " [11083.507 ]\n",
      " [11079.214 ]\n",
      " [11092.578 ]\n",
      " [11126.712 ]\n",
      " [11182.2   ]\n",
      " [11256.569 ]\n",
      " [11344.062 ]\n",
      " [11433.288 ]\n",
      " [11514.953 ]\n",
      " [11587.072 ]\n",
      " [11650.023 ]\n",
      " [11699.263 ]\n",
      " [11735.369 ]\n",
      " [11762.111 ]\n",
      " [11785.864 ]\n",
      " [11804.728 ]\n",
      " [11820.72  ]\n",
      " [11834.804 ]\n",
      " [11850.915 ]\n",
      " [11870.407 ]\n",
      " [11892.856 ]\n",
      " [11919.549 ]\n",
      " [11951.742 ]\n",
      " [11988.521 ]\n",
      " [12030.1   ]\n",
      " [12072.734 ]\n",
      " [12113.237 ]\n",
      " [12150.018 ]\n",
      " [12182.057 ]\n",
      " [12211.349 ]\n",
      " [12239.888 ]\n",
      " [12268.116 ]\n",
      " [12285.265 ]\n",
      " [12290.055 ]\n",
      " [12288.2705]\n",
      " [12288.364 ]\n",
      " [12297.172 ]\n",
      " [12316.973 ]\n",
      " [12346.374 ]\n",
      " [12381.115 ]\n",
      " [12419.723 ]\n",
      " [12460.8125]\n",
      " [12500.412 ]\n",
      " [12534.958 ]\n",
      " [12566.953 ]\n",
      " [12600.281 ]\n",
      " [12636.901 ]\n",
      " [12675.365 ]\n",
      " [12713.347 ]\n",
      " [12745.02  ]\n",
      " [12764.417 ]\n",
      " [12775.371 ]\n",
      " [12784.551 ]\n",
      " [12794.451 ]\n",
      " [12801.057 ]\n",
      " [12799.695 ]\n",
      " [12784.462 ]\n",
      " [12752.875 ]\n",
      " [12704.935 ]\n",
      " [12659.46  ]\n",
      " [12636.784 ]\n",
      " [12645.942 ]\n",
      " [12684.77  ]\n",
      " [12743.369 ]\n",
      " [12813.268 ]\n",
      " [12885.053 ]\n",
      " [12950.839 ]\n",
      " [13006.904 ]\n",
      " [13051.483 ]\n",
      " [13087.243 ]\n",
      " [13116.236 ]\n",
      " [13137.765 ]\n",
      " [13150.374 ]\n",
      " [13152.29  ]\n",
      " [13139.416 ]\n",
      " [13113.637 ]\n",
      " [13085.202 ]\n",
      " [13063.967 ]\n",
      " [13043.765 ]\n",
      " [13024.802 ]\n",
      " [13011.433 ]\n",
      " [13011.698 ]\n",
      " [13023.924 ]\n",
      " [13040.667 ]\n",
      " [13056.525 ]\n",
      " [13071.267 ]\n",
      " [13086.305 ]\n",
      " [13099.201 ]\n",
      " [13106.466 ]\n",
      " [13106.825 ]\n",
      " [13097.885 ]\n",
      " [13077.623 ]\n",
      " [13051.53  ]\n",
      " [13025.196 ]\n",
      " [13003.897 ]\n",
      " [12985.053 ]\n",
      " [12962.587 ]\n",
      " [12938.257 ]\n",
      " [12921.566 ]\n",
      " [12914.067 ]\n",
      " [12917.366 ]\n",
      " [12925.404 ]\n",
      " [12934.01  ]]\n"
     ]
    }
   ],
   "source": [
    "print(predictions)"
   ]
  },
  {
   "cell_type": "code",
   "execution_count": 26,
   "metadata": {},
   "outputs": [],
   "source": [
    "predictions_df = pd.DataFrame(predictions, columns = ['Predicted'])\n",
    "predictions_df['Date'] = testing_complete['Date']\n",
    "predictions_df.to_csv('predictions_1.csv')"
   ]
  },
  {
   "cell_type": "code",
   "execution_count": 27,
   "metadata": {},
   "outputs": [],
   "source": [
    "testing_processed_df = pd.DataFrame(testing_processed, columns = ['Values'])\n",
    "testing_processed_df['Date'] = testing_complete['Date']\n",
    "testing_processed_df.to_csv('testing_processed.csv')"
   ]
  },
  {
   "cell_type": "code",
   "execution_count": null,
   "metadata": {},
   "outputs": [],
   "source": []
  }
 ],
 "metadata": {
  "kernelspec": {
   "display_name": "Python 3",
   "language": "python",
   "name": "python3"
  },
  "language_info": {
   "codemirror_mode": {
    "name": "ipython",
    "version": 3
   },
   "file_extension": ".py",
   "mimetype": "text/x-python",
   "name": "python",
   "nbconvert_exporter": "python",
   "pygments_lexer": "ipython3",
   "version": "3.7.4"
  }
 },
 "nbformat": 4,
 "nbformat_minor": 2
}
